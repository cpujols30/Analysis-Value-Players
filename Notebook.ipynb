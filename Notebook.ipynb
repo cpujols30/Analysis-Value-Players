{
 "cells": [
  {
   "cell_type": "markdown",
   "metadata": {},
   "source": [
    "# Análisis de Regresión para la Predicción del Valor de Mercado en el Fútbol\n",
    "## Práctica personal - Carlos Pujols\n"
   ]
  },
  {
   "cell_type": "markdown",
   "metadata": {},
   "source": [
    "Procedencia del dataset: https://www.kaggle.com/datasets/davidcariboo/player-scores?select=player_valuations.csv "
   ]
  },
  {
   "cell_type": "markdown",
   "metadata": {},
   "source": [
    "### Importación de dataset y limpieza de datos\n"
   ]
  },
  {
   "cell_type": "code",
   "execution_count": 40,
   "metadata": {},
   "outputs": [
    {
     "name": "stdout",
     "output_type": "stream",
     "text": [
      "[[ 2.6834058  -0.26946064  0.46389541  2.34261996 -0.06066782 -0.71576251\n",
      "  -0.27228617 -0.66637056]\n",
      " [-0.29471166 -0.26946064  0.69797598  2.34261996 -0.06066782 -0.71576251\n",
      "  -0.27228617 -0.66637056]\n",
      " [ 5.66152326 -0.26946064  0.6645359   2.34261996 -0.06066782 -0.71576251\n",
      "  -0.27228617 -0.66637056]\n",
      " [ 2.6834058  -0.26946064  0.69797598 -0.40219048 -0.06066782 -0.71576251\n",
      "  -0.27228617 -0.66637056]\n",
      " [-0.29471166 -0.26946064  0.69797598 -0.40219048 -0.06066782 -0.71576251\n",
      "  -0.27228617 -0.66637056]]\n",
      "[-0.35993308 -0.35993308 -0.35993308 -0.35993308 -0.35993308]\n"
     ]
    }
   ],
   "source": [
    "import pandas as pd\n",
    "from sklearn.preprocessing import StandardScaler\n",
    "\n",
    "# Cargar el primer archivo CSV\n",
    "df = pd.read_csv('players.csv')\n",
    "\n",
    "# Seleccionamos las columnas relevantes\n",
    "df1 = df[[\n",
    "    'player_id',\n",
    "    'market_value_in_eur',           # Valor de mercado en euros\n",
    "    'highest_market_value_in_eur',   # Máximo valor de mercado en euros\n",
    "    'position',                      # Posición del jugador\n",
    "    'date_of_birth',                 # Fecha de nacimiento\n",
    "    'current_club_name',             # Nombre del club actual\n",
    "    'country_of_birth',              # País de nacimiento\n",
    "    'country_of_citizenship',        # País de ciudadanía\n",
    "    'height_in_cm',                  # Altura en centímetros\n",
    "    'foot',                          # Pie dominante\n",
    "    'sub_position',                  # Subposición (si aplica)\n",
    "    'agent_name'                     # Nombre del agente\n",
    "]]\n",
    "\n",
    "df2 = pd.read_csv('appearances.csv')\n",
    "\n",
    "df2f = df2[[\n",
    "    'player_id',       # Identificador del jugador\n",
    "    'goals',           # Goles anotados\n",
    "    'assists',         # Asistencias\n",
    "    'minutes_played',  # Minutos jugados\n",
    "    'yellow_cards',    # Tarjetas amarillas\n",
    "    'red_cards'        # Tarjetas rojas\n",
    "]]\n",
    "\n",
    "# Unimos los dos datasets usando 'player_id' como clave\n",
    "dataMergerado = pd.merge(df1, df2, on='player_id', how='left')\n",
    "\n",
    "# Imputación con la media de las columnas\n",
    "dataMergerado.dropna(how='any', inplace=True)\n",
    "\n",
    "# Convertir las variables categóricas 'position' y 'foot' a variables dummy (One-Hot Encoding)\n",
    "dataMergerado = pd.get_dummies(dataMergerado, columns=['position', 'foot'], drop_first=True)\n",
    "\n",
    "# Crear dos instancias de StandardScaler\n",
    "scaler_X = StandardScaler()  # Para las variables predictoras\n",
    "scaler_y = StandardScaler()  # Para la variable objetivo\n",
    "\n",
    "# Normalizar las variables predictoras\n",
    "dataMergerado['minutes_played'] = scaler_X.fit_transform(dataMergerado[['minutes_played']]).flatten()\n",
    "\n",
    "X = dataMergerado[['goals', 'assists', 'minutes_played', 'yellow_cards', 'red_cards'] + [col for col in dataMergerado.columns if 'position_' in col]]  # Variables predictoras\n",
    "y = dataMergerado['market_value_in_eur']  # Variable objetivo (valor de mercado)\n",
    "\n",
    "# Normalizar la variable objetivo\n",
    "y = scaler_y.fit_transform(y.values.reshape(-1, 1)).flatten()  # Ajustamos la forma para que funcione con fit_transform\n",
    "\n",
    "# Normalizar las variables predictoras\n",
    "X_normalized = scaler_X.fit_transform(X)  # Normalización de X\n",
    "\n",
    "# Mostrar las primeras filas de X_normalized y y para verificar\n",
    "print(X_normalized[:5])  # Primeras 5 filas de X normalizadas\n",
    "print(y[:5])  # Primeros 5 valores de y normalizados\n"
   ]
  },
  {
   "cell_type": "markdown",
   "metadata": {},
   "source": [
    "## Regresión lineal"
   ]
  },
  {
   "cell_type": "code",
   "execution_count": null,
   "metadata": {},
   "outputs": [
    {
     "name": "stdout",
     "output_type": "stream",
     "text": [
      "Error cuadrático: 0.98\n",
      "Coeficientes del modelo:\n",
      "[ 0.04474027  0.03020574  0.03674768 -0.01693432 -0.00308647 -0.04272704\n",
      " -0.03457826  0.00370767]\n"
     ]
    }
   ],
   "source": [
    "from sklearn.linear_model import LinearRegression\n",
    "from sklearn.model_selection import train_test_split\n",
    "from sklearn.metrics import mean_squared_error\n",
    "\n",
    "# Dividir los datos en entrenamiento y prueba\n",
    "X_train, X_test, y_train, y_test = train_test_split(X_normalized, y, test_size=0.2, random_state=42)\n",
    "\n",
    "# Crear y entrenar el modelo de regresión lineal\n",
    "model = LinearRegression()\n",
    "model.fit(X_train, y_train)\n",
    "\n",
    "# Predecir en los datos de prueba\n",
    "y_pred = model.predict(X_test)\n",
    "\n",
    "# Evaluar el modelo\n",
    "mse = mean_squared_error(y_test, y_pred)\n",
    "print(f\"Error cuadrático: {mse:.2f}\")\n",
    "\n",
    "# Coeficientes del modelo\n",
    "print(\"Coeficientes del modelo:\")\n",
    "print(model.coef_)"
   ]
  },
  {
   "cell_type": "markdown",
   "metadata": {},
   "source": [
    "# Visualizacion de coeficientes de posiciones"
   ]
  },
  {
   "cell_type": "code",
   "execution_count": 42,
   "metadata": {},
   "outputs": [
    {
     "name": "stdout",
     "output_type": "stream",
     "text": [
      "              position  coefficient\n",
      "0    position_Defender    -0.042727\n",
      "1  position_Goalkeeper    -0.034578\n",
      "2    position_Midfield     0.003708\n"
     ]
    }
   ],
   "source": [
    "# Obtener las columnas que corresponden a las posiciones\n",
    "position_columns = [col for col in dataMergerado.columns if 'position_' in col]\n",
    "\n",
    "# Obtener los coeficientes correspondientes a las posiciones\n",
    "position_coefficients = model.coef_[-len(position_columns):]\n",
    "\n",
    "# Crear un DataFrame con las posiciones y sus coeficientes\n",
    "position_df = pd.DataFrame({\n",
    "    'position': position_columns,\n",
    "    'coefficient': position_coefficients\n",
    "})\n",
    "\n",
    "# Ordenar por el coeficiente para ver las posiciones con peores valores (coeficientes negativos)\n",
    "position_df_sorted = position_df.sort_values(by='coefficient', ascending=True)\n",
    "\n",
    "# Mostrar las posiciones con los peores valores de mercado\n",
    "print(position_df_sorted)\n"
   ]
  },
  {
   "cell_type": "markdown",
   "metadata": {},
   "source": [
    "# Conclusiones sobre el resultado\n",
    "A continuación se presentan algunas conclusiones clave basadas en los resultados obtenidos:\n",
    "\n",
    "- **Impacto de las estadísticas de rendimiento**: El valor de mercado de un jugador está relacionado con su rendimiento en el campo. En particular, un mayor número de goles, asistencias y minutos jugados se asocia con un incremento en el valor de mercado del jugador. Esto nos sugiere que los jugadores más activos y productivos tienen una mayor demanda en el mercado.\n",
    "\n",
    "- **Efecto de las sanciones**: En cambio, la acumulación de tarjetas amarillas y rojas tiene un efecto negativo sobre el valor de mercado del jugador. Cuantas más tarjetas reciba un jugador, su valor disminuye, lo que podría reflejar la percepción de un jugador menos disciplinado o confiable.\n",
    "\n",
    "- **Influencias de la posición en el campo**: Las posiciones también tienen un papel importante en la determinación del valor de mercado. Los jugadores en posiciones más ofensivas, como pueden ser los mediocampistas, tienden a tener un valor de mercado más alto, dado que tienen más oportunidades para anotar goles y asistir. Por el contrario, los defensores y porteros, que suelen estar más cerca de su propia portería, tienen un valor de mercado inferior, ya que sus contribuciones a los goles son más limitadas.\n",
    "\n",
    "En resumen, el valor de mercado de un jugador está influenciado por su rendimiento individual en el campo y por su posición en el mismo, con los jugadores más involucrados en la ofensiva y menos propensos a recibir sanciones generalmente teniendo de un valor de mercado más alto."
   ]
  }
 ],
 "metadata": {
  "kernelspec": {
   "display_name": "Python 3",
   "language": "python",
   "name": "python3"
  },
  "language_info": {
   "codemirror_mode": {
    "name": "ipython",
    "version": 3
   },
   "file_extension": ".py",
   "mimetype": "text/x-python",
   "name": "python",
   "nbconvert_exporter": "python",
   "pygments_lexer": "ipython3",
   "version": "3.12.0"
  }
 },
 "nbformat": 4,
 "nbformat_minor": 2
}
